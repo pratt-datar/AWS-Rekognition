{
 "cells": [
  {
   "cell_type": "code",
   "execution_count": 1,
   "id": "7783134b",
   "metadata": {},
   "outputs": [],
   "source": [
    "# Imports\n",
    "import boto3\n",
    "from pprint import pprint"
   ]
  },
  {
   "cell_type": "code",
   "execution_count": 2,
   "id": "44610dce",
   "metadata": {},
   "outputs": [],
   "source": [
    "#calling Rekognition service\n",
    "client = boto3.client('rekognition') "
   ]
  },
  {
   "cell_type": "markdown",
   "id": "e9e7b8ed",
   "metadata": {},
   "source": [
    "### Checking for my image"
   ]
  },
  {
   "cell_type": "markdown",
   "id": "6f2bae61",
   "metadata": {},
   "source": [
    "<img src=\"source.jpg\" width=\"800\" height=\"400\">"
   ]
  },
  {
   "cell_type": "markdown",
   "id": "a249d989",
   "metadata": {},
   "source": [
    "### Target Image"
   ]
  },
  {
   "cell_type": "markdown",
   "id": "3802054b",
   "metadata": {},
   "source": [
    "<img src=\"target.jpg\" width=\"800\" height=\"400\">"
   ]
  },
  {
   "cell_type": "code",
   "execution_count": 3,
   "id": "9a4e0a0b",
   "metadata": {},
   "outputs": [
    {
     "name": "stdout",
     "output_type": "stream",
     "text": [
      "{'FaceMatches': [{'Face': {'BoundingBox': {'Height': 0.25871542096138,\n",
      "                                           'Left': 0.41204580664634705,\n",
      "                                           'Top': 0.1879614144563675,\n",
      "                                           'Width': 0.2049568146467209},\n",
      "                           'Confidence': 99.9977798461914,\n",
      "                           'Landmarks': [{'Type': 'eyeLeft',\n",
      "                                          'X': 0.48059871792793274,\n",
      "                                          'Y': 0.2856364846229553},\n",
      "                                         {'Type': 'eyeRight',\n",
      "                                          'X': 0.5738231539726257,\n",
      "                                          'Y': 0.289704829454422},\n",
      "                                         {'Type': 'mouthLeft',\n",
      "                                          'X': 0.48473167419433594,\n",
      "                                          'Y': 0.3776293694972992},\n",
      "                                         {'Type': 'mouthRight',\n",
      "                                          'X': 0.5626018643379211,\n",
      "                                          'Y': 0.38106009364128113},\n",
      "                                         {'Type': 'nose',\n",
      "                                          'X': 0.5271493196487427,\n",
      "                                          'Y': 0.3302096724510193}],\n",
      "                           'Pose': {'Pitch': 14.630486488342285,\n",
      "                                    'Roll': 2.7226552963256836,\n",
      "                                    'Yaw': 1.0973479747772217},\n",
      "                           'Quality': {'Brightness': 83.99649047851562,\n",
      "                                       'Sharpness': 96.61495208740234}},\n",
      "                  'Similarity': 99.99964904785156}],\n",
      " 'ResponseMetadata': {'HTTPHeaders': {'connection': 'keep-alive',\n",
      "                                      'content-length': '911',\n",
      "                                      'content-type': 'application/x-amz-json-1.1',\n",
      "                                      'date': 'Wed, 26 May 2021 17:41:45 GMT',\n",
      "                                      'x-amzn-requestid': '9a1a57c2-5640-4315-b660-5884b586cba7'},\n",
      "                      'HTTPStatusCode': 200,\n",
      "                      'RequestId': '9a1a57c2-5640-4315-b660-5884b586cba7',\n",
      "                      'RetryAttempts': 0},\n",
      " 'SourceImageFace': {'BoundingBox': {'Height': 0.11633004993200302,\n",
      "                                     'Left': 0.43674784898757935,\n",
      "                                     'Top': 0.35024967789649963,\n",
      "                                     'Width': 0.12216898798942566},\n",
      "                     'Confidence': 99.99832916259766},\n",
      " 'UnmatchedFaces': []}\n"
     ]
    }
   ],
   "source": [
    "response = client.compare_faces(\n",
    "    SimilarityThreshold=90,\n",
    "    SourceImage={\n",
    "        'S3Object': {\n",
    "            'Bucket': 'image-folder-pd',\n",
    "            'Name': 'source.jpg',\n",
    "        },\n",
    "    },\n",
    "    TargetImage={\n",
    "        'S3Object': {\n",
    "            'Bucket': 'image-folder-pd',\n",
    "            'Name': 'target.jpg',\n",
    "        },\n",
    "    },\n",
    ")\n",
    "\n",
    "\n",
    "pprint(response)"
   ]
  },
  {
   "cell_type": "code",
   "execution_count": 4,
   "id": "0eb62755",
   "metadata": {},
   "outputs": [
    {
     "name": "stdout",
     "output_type": "stream",
     "text": [
      "Yes it is me!\n"
     ]
    }
   ],
   "source": [
    "try:\n",
    "    if response.get('FaceMatches')[0].get('Similarity') > 0.99:\n",
    "        print('Yes it is me!')\n",
    "    else:\n",
    "        print('No, its not me according to the threshold')\n",
    "except:\n",
    "    print('No it is definitely not me')"
   ]
  },
  {
   "cell_type": "markdown",
   "id": "22686a2f",
   "metadata": {},
   "source": [
    "### Let's check if I am Einstein : D"
   ]
  },
  {
   "cell_type": "markdown",
   "id": "4eef294f",
   "metadata": {},
   "source": [
    "<img src=\"einstein.jpg\" width=\"800\" height=\"400\">"
   ]
  },
  {
   "cell_type": "code",
   "execution_count": 5,
   "id": "264f57ca",
   "metadata": {},
   "outputs": [
    {
     "name": "stdout",
     "output_type": "stream",
     "text": [
      "{'FaceMatches': [],\n",
      " 'ResponseMetadata': {'HTTPHeaders': {'connection': 'keep-alive',\n",
      "                                      'content-length': '868',\n",
      "                                      'content-type': 'application/x-amz-json-1.1',\n",
      "                                      'date': 'Wed, 26 May 2021 17:42:07 GMT',\n",
      "                                      'x-amzn-requestid': '595a3ca4-69a3-4537-994f-08c9fdf55dc3'},\n",
      "                      'HTTPStatusCode': 200,\n",
      "                      'RequestId': '595a3ca4-69a3-4537-994f-08c9fdf55dc3',\n",
      "                      'RetryAttempts': 0},\n",
      " 'SourceImageFace': {'BoundingBox': {'Height': 0.3658027946949005,\n",
      "                                     'Left': 0.3538667857646942,\n",
      "                                     'Top': 0.22538520395755768,\n",
      "                                     'Width': 0.3526756465435028},\n",
      "                     'Confidence': 99.98788452148438},\n",
      " 'UnmatchedFaces': [{'BoundingBox': {'Height': 0.25871542096138,\n",
      "                                     'Left': 0.41204580664634705,\n",
      "                                     'Top': 0.1879614144563675,\n",
      "                                     'Width': 0.2049568146467209},\n",
      "                     'Confidence': 99.9977798461914,\n",
      "                     'Landmarks': [{'Type': 'eyeLeft',\n",
      "                                    'X': 0.48059871792793274,\n",
      "                                    'Y': 0.2856364846229553},\n",
      "                                   {'Type': 'eyeRight',\n",
      "                                    'X': 0.5738231539726257,\n",
      "                                    'Y': 0.289704829454422},\n",
      "                                   {'Type': 'mouthLeft',\n",
      "                                    'X': 0.48473167419433594,\n",
      "                                    'Y': 0.3776293694972992},\n",
      "                                   {'Type': 'mouthRight',\n",
      "                                    'X': 0.5626018643379211,\n",
      "                                    'Y': 0.38106009364128113},\n",
      "                                   {'Type': 'nose',\n",
      "                                    'X': 0.5271493196487427,\n",
      "                                    'Y': 0.3302096724510193}],\n",
      "                     'Pose': {'Pitch': 14.630486488342285,\n",
      "                              'Roll': 2.7226552963256836,\n",
      "                              'Yaw': 1.0973479747772217},\n",
      "                     'Quality': {'Brightness': 83.99649047851562,\n",
      "                                 'Sharpness': 96.61495208740234}}]}\n"
     ]
    }
   ],
   "source": [
    "response = client.compare_faces(\n",
    "    SimilarityThreshold=90,\n",
    "    SourceImage={\n",
    "        'S3Object': {\n",
    "            'Bucket': 'image-folder-pd',\n",
    "            'Name': 'einstein.jpg',\n",
    "        },\n",
    "    },\n",
    "    TargetImage={\n",
    "        'S3Object': {\n",
    "            'Bucket': 'image-folder-pd',\n",
    "            'Name': 'target.jpg',\n",
    "        },\n",
    "    },\n",
    ")\n",
    "\n",
    "\n",
    "pprint(response)"
   ]
  },
  {
   "cell_type": "code",
   "execution_count": 6,
   "id": "4f1946be",
   "metadata": {},
   "outputs": [
    {
     "name": "stdout",
     "output_type": "stream",
     "text": [
      "No, I am definitely not Einstein!\n"
     ]
    }
   ],
   "source": [
    "try:\n",
    "    if response.get('FaceMatches')[0].get('Similarity') > 0.99:\n",
    "        print('Yes it is me!')\n",
    "    else:\n",
    "        print('No, I am not Einstein according to the threshold!')\n",
    "except:\n",
    "    print('No, I am definitely not Einstein!')"
   ]
  }
 ],
 "metadata": {
  "kernelspec": {
   "display_name": "conda_python3",
   "language": "python",
   "name": "conda_python3"
  },
  "language_info": {
   "codemirror_mode": {
    "name": "ipython",
    "version": 3
   },
   "file_extension": ".py",
   "mimetype": "text/x-python",
   "name": "python",
   "nbconvert_exporter": "python",
   "pygments_lexer": "ipython3",
   "version": "3.6.13"
  }
 },
 "nbformat": 4,
 "nbformat_minor": 5
}
